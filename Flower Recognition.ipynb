{
 "cells": [
  {
   "cell_type": "code",
   "execution_count": 1,
   "id": "54bab282",
   "metadata": {
    "scrolled": true
   },
   "outputs": [
    {
     "name": "stdout",
     "output_type": "stream",
     "text": [
      "WARNING:tensorflow:From C:\\Users\\Usuario\\anaconda3\\Lib\\site-packages\\keras\\src\\losses.py:2976: The name tf.losses.sparse_softmax_cross_entropy is deprecated. Please use tf.compat.v1.losses.sparse_softmax_cross_entropy instead.\n",
      "\n"
     ]
    }
   ],
   "source": [
    "import numpy as np\n",
    "import tensorflow as tf\n",
    "from keras.preprocessing.image import ImageDataGenerator"
   ]
  },
  {
   "cell_type": "code",
   "execution_count": 2,
   "id": "a401a250",
   "metadata": {},
   "outputs": [
    {
     "name": "stdout",
     "output_type": "stream",
     "text": [
      "Found 4128 images belonging to 5 classes.\n"
     ]
    }
   ],
   "source": [
    "train_datagen = ImageDataGenerator(\n",
    "    rescale = 1./255,\n",
    "    shear_range = 0.2,\n",
    "    zoom_range = 0.2,\n",
    "    horizontal_flip = True\n",
    ")\n",
    "training_set = train_datagen.flow_from_directory('training_set', target_size = (64,64), \n",
    "                                                 batch_size=32, class_mode = 'categorical'\n",
    "                                                )"
   ]
  },
  {
   "cell_type": "code",
   "execution_count": 3,
   "id": "a59bd6a4",
   "metadata": {},
   "outputs": [
    {
     "name": "stdout",
     "output_type": "stream",
     "text": [
      "Found 189 images belonging to 5 classes.\n"
     ]
    }
   ],
   "source": [
    "test_datagen = ImageDataGenerator(rescale = 1./255)\n",
    "test_set = test_datagen.flow_from_directory('test_set', target_size=(64,64),\n",
    "                                           batch_size=32, class_mode='categorical')"
   ]
  },
  {
   "cell_type": "code",
   "execution_count": 4,
   "id": "3615cd7d",
   "metadata": {},
   "outputs": [
    {
     "name": "stdout",
     "output_type": "stream",
     "text": [
      "WARNING:tensorflow:From C:\\Users\\Usuario\\anaconda3\\Lib\\site-packages\\keras\\src\\backend.py:873: The name tf.get_default_graph is deprecated. Please use tf.compat.v1.get_default_graph instead.\n",
      "\n",
      "WARNING:tensorflow:From C:\\Users\\Usuario\\anaconda3\\Lib\\site-packages\\keras\\src\\layers\\pooling\\max_pooling2d.py:161: The name tf.nn.max_pool is deprecated. Please use tf.nn.max_pool2d instead.\n",
      "\n"
     ]
    }
   ],
   "source": [
    "cnn = tf.keras.models.Sequential()\n",
    "\n",
    "cnn.add(tf.keras.layers.Conv2D(filters=64, kernel_size=3, activation='relu', input_shape=[64,64,3]))\n",
    "cnn.add(tf.keras.layers.MaxPool2D(pool_size=2, strides=2))"
   ]
  },
  {
   "cell_type": "code",
   "execution_count": 5,
   "id": "926f934d",
   "metadata": {},
   "outputs": [],
   "source": [
    "cnn.add(tf.keras.layers.Conv2D(filters=64, kernel_size=3, activation='relu'))\n",
    "cnn.add(tf.keras.layers.MaxPool2D(pool_size=2, strides=2))"
   ]
  },
  {
   "cell_type": "code",
   "execution_count": 6,
   "id": "859598de",
   "metadata": {},
   "outputs": [],
   "source": [
    "cnn.add(tf.keras.layers.Dropout(0.5))\n",
    "cnn.add(tf.keras.layers.Flatten())\n",
    "cnn.add(tf.keras.layers.Dense(units=128, activation='relu'))\n",
    "cnn.add(tf.keras.layers.Dense(units=5, activation='softmax'))\n"
   ]
  },
  {
   "cell_type": "code",
   "execution_count": 7,
   "id": "86fdef4f",
   "metadata": {},
   "outputs": [
    {
     "name": "stdout",
     "output_type": "stream",
     "text": [
      "WARNING:tensorflow:From C:\\Users\\Usuario\\anaconda3\\Lib\\site-packages\\keras\\src\\optimizers\\__init__.py:309: The name tf.train.Optimizer is deprecated. Please use tf.compat.v1.train.Optimizer instead.\n",
      "\n"
     ]
    }
   ],
   "source": [
    "cnn.compile(optimizer='adam', loss='categorical_crossentropy', metrics=['accuracy'])"
   ]
  },
  {
   "cell_type": "code",
   "execution_count": 8,
   "id": "f2d51591",
   "metadata": {
    "scrolled": true
   },
   "outputs": [
    {
     "name": "stdout",
     "output_type": "stream",
     "text": [
      "Epoch 1/30\n",
      "WARNING:tensorflow:From C:\\Users\\Usuario\\anaconda3\\Lib\\site-packages\\keras\\src\\utils\\tf_utils.py:492: The name tf.ragged.RaggedTensorValue is deprecated. Please use tf.compat.v1.ragged.RaggedTensorValue instead.\n",
      "\n",
      "WARNING:tensorflow:From C:\\Users\\Usuario\\anaconda3\\Lib\\site-packages\\keras\\src\\engine\\base_layer_utils.py:384: The name tf.executing_eagerly_outside_functions is deprecated. Please use tf.compat.v1.executing_eagerly_outside_functions instead.\n",
      "\n",
      "129/129 [==============================] - 22s 158ms/step - loss: 1.2420 - accuracy: 0.4612 - val_loss: 0.9509 - val_accuracy: 0.6667\n",
      "Epoch 2/30\n",
      "129/129 [==============================] - 15s 113ms/step - loss: 1.0290 - accuracy: 0.5899 - val_loss: 0.9562 - val_accuracy: 0.6772\n",
      "Epoch 3/30\n",
      "129/129 [==============================] - 15s 114ms/step - loss: 0.9457 - accuracy: 0.6354 - val_loss: 0.9653 - val_accuracy: 0.6402\n",
      "Epoch 4/30\n",
      "129/129 [==============================] - 15s 114ms/step - loss: 0.8638 - accuracy: 0.6630 - val_loss: 0.8675 - val_accuracy: 0.6561\n",
      "Epoch 5/30\n",
      "129/129 [==============================] - 15s 112ms/step - loss: 0.8171 - accuracy: 0.6814 - val_loss: 0.8325 - val_accuracy: 0.7037\n",
      "Epoch 6/30\n",
      "129/129 [==============================] - 15s 118ms/step - loss: 0.7700 - accuracy: 0.7023 - val_loss: 0.7925 - val_accuracy: 0.7143\n",
      "Epoch 7/30\n",
      "129/129 [==============================] - 15s 116ms/step - loss: 0.7439 - accuracy: 0.7178 - val_loss: 0.8393 - val_accuracy: 0.7090\n",
      "Epoch 8/30\n",
      "129/129 [==============================] - 15s 113ms/step - loss: 0.7122 - accuracy: 0.7277 - val_loss: 0.8424 - val_accuracy: 0.7090\n",
      "Epoch 9/30\n",
      "129/129 [==============================] - 15s 113ms/step - loss: 0.6641 - accuracy: 0.7505 - val_loss: 0.8230 - val_accuracy: 0.7090\n",
      "Epoch 10/30\n",
      "129/129 [==============================] - 15s 115ms/step - loss: 0.6312 - accuracy: 0.7578 - val_loss: 0.8014 - val_accuracy: 0.7037\n",
      "Epoch 11/30\n",
      "129/129 [==============================] - 15s 113ms/step - loss: 0.6179 - accuracy: 0.7682 - val_loss: 0.8110 - val_accuracy: 0.7196\n",
      "Epoch 12/30\n",
      "129/129 [==============================] - 15s 113ms/step - loss: 0.5794 - accuracy: 0.7805 - val_loss: 0.8042 - val_accuracy: 0.7249\n",
      "Epoch 13/30\n",
      "129/129 [==============================] - 15s 115ms/step - loss: 0.5597 - accuracy: 0.7922 - val_loss: 0.8738 - val_accuracy: 0.6720\n",
      "Epoch 14/30\n",
      "129/129 [==============================] - 15s 113ms/step - loss: 0.5229 - accuracy: 0.8052 - val_loss: 0.9420 - val_accuracy: 0.6772\n",
      "Epoch 15/30\n",
      "129/129 [==============================] - 15s 115ms/step - loss: 0.5289 - accuracy: 0.8014 - val_loss: 0.9098 - val_accuracy: 0.6772\n",
      "Epoch 16/30\n",
      "129/129 [==============================] - 15s 113ms/step - loss: 0.4750 - accuracy: 0.8217 - val_loss: 0.8479 - val_accuracy: 0.7090\n",
      "Epoch 17/30\n",
      "129/129 [==============================] - 15s 114ms/step - loss: 0.4577 - accuracy: 0.8333 - val_loss: 0.8879 - val_accuracy: 0.6931\n",
      "Epoch 18/30\n",
      "129/129 [==============================] - 15s 113ms/step - loss: 0.4301 - accuracy: 0.8355 - val_loss: 0.9035 - val_accuracy: 0.6772\n",
      "Epoch 19/30\n",
      "129/129 [==============================] - 15s 115ms/step - loss: 0.4081 - accuracy: 0.8515 - val_loss: 0.9013 - val_accuracy: 0.6931\n",
      "Epoch 20/30\n",
      "129/129 [==============================] - 15s 112ms/step - loss: 0.3919 - accuracy: 0.8590 - val_loss: 1.0405 - val_accuracy: 0.6667\n",
      "Epoch 21/30\n",
      "129/129 [==============================] - 15s 117ms/step - loss: 0.3776 - accuracy: 0.8580 - val_loss: 0.9183 - val_accuracy: 0.6561\n",
      "Epoch 22/30\n",
      "129/129 [==============================] - 15s 113ms/step - loss: 0.3483 - accuracy: 0.8772 - val_loss: 1.0142 - val_accuracy: 0.7249\n",
      "Epoch 23/30\n",
      "129/129 [==============================] - 15s 113ms/step - loss: 0.3494 - accuracy: 0.8694 - val_loss: 0.7987 - val_accuracy: 0.7249\n",
      "Epoch 24/30\n",
      "129/129 [==============================] - 15s 112ms/step - loss: 0.3350 - accuracy: 0.8796 - val_loss: 0.9204 - val_accuracy: 0.6931\n",
      "Epoch 25/30\n",
      "129/129 [==============================] - 15s 113ms/step - loss: 0.3071 - accuracy: 0.8898 - val_loss: 0.9929 - val_accuracy: 0.7196\n",
      "Epoch 26/30\n",
      "129/129 [==============================] - 15s 114ms/step - loss: 0.3016 - accuracy: 0.8857 - val_loss: 0.9380 - val_accuracy: 0.7143\n",
      "Epoch 27/30\n",
      "129/129 [==============================] - 15s 113ms/step - loss: 0.2896 - accuracy: 0.8953 - val_loss: 1.0639 - val_accuracy: 0.6667\n",
      "Epoch 28/30\n",
      "129/129 [==============================] - 15s 112ms/step - loss: 0.2808 - accuracy: 0.8944 - val_loss: 1.0445 - val_accuracy: 0.7090\n",
      "Epoch 29/30\n",
      "129/129 [==============================] - 15s 113ms/step - loss: 0.2692 - accuracy: 0.9000 - val_loss: 0.9979 - val_accuracy: 0.6931\n",
      "Epoch 30/30\n",
      "129/129 [==============================] - 15s 113ms/step - loss: 0.2433 - accuracy: 0.9130 - val_loss: 0.9404 - val_accuracy: 0.7354\n"
     ]
    },
    {
     "data": {
      "text/plain": [
       "<keras.src.callbacks.History at 0x235704c65d0>"
      ]
     },
     "execution_count": 8,
     "metadata": {},
     "output_type": "execute_result"
    }
   ],
   "source": [
    "cnn.fit(x=training_set, validation_data = test_set, epochs=30)"
   ]
  },
  {
   "cell_type": "code",
   "execution_count": 9,
   "id": "a67afa8c",
   "metadata": {},
   "outputs": [],
   "source": [
    "from keras.preprocessing import image\n"
   ]
  },
  {
   "cell_type": "code",
   "execution_count": 10,
   "id": "ed37cf27",
   "metadata": {},
   "outputs": [
    {
     "name": "stdout",
     "output_type": "stream",
     "text": [
      "1/1 [==============================] - 0s 174ms/step\n"
     ]
    }
   ],
   "source": [
    "test_image = image.load_img('prueba/tulip.jpg', target_size=(64,64))\n",
    "test_image = image.img_to_array(test_image)\n",
    "test_image = np.expand_dims(test_image, axis=0)\n",
    "result = cnn.predict(test_image)"
   ]
  },
  {
   "cell_type": "code",
   "execution_count": 11,
   "id": "d8d542a2",
   "metadata": {},
   "outputs": [
    {
     "data": {
      "text/plain": [
       "{'daisy': 0, 'dandelion': 1, 'rose': 2, 'sunflower': 3, 'tulip': 4}"
      ]
     },
     "execution_count": 11,
     "metadata": {},
     "output_type": "execute_result"
    }
   ],
   "source": [
    "training_set.class_indices"
   ]
  },
  {
   "cell_type": "code",
   "execution_count": 12,
   "id": "75aa5487",
   "metadata": {
    "scrolled": true
   },
   "outputs": [
    {
     "name": "stdout",
     "output_type": "stream",
     "text": [
      "[[0. 0. 0. 0. 1.]]\n"
     ]
    }
   ],
   "source": [
    "print(result)"
   ]
  },
  {
   "cell_type": "code",
   "execution_count": 13,
   "id": "c71fcbb7",
   "metadata": {},
   "outputs": [
    {
     "name": "stdout",
     "output_type": "stream",
     "text": [
      "tulip\n"
     ]
    }
   ],
   "source": [
    "if result[0][0]==1:\n",
    "    print('daisy')\n",
    "elif result[0][1]==1:\n",
    "    print('dandelion')\n",
    "elif result[0][2]==1:\n",
    "    print('rose')\n",
    "elif result[0][3]==1:\n",
    "    print('sunflower')\n",
    "elif result[0][4]==1:\n",
    "    print('tulip')"
   ]
  }
 ],
 "metadata": {
  "kernelspec": {
   "display_name": "Python 3 (ipykernel)",
   "language": "python",
   "name": "python3"
  },
  "language_info": {
   "codemirror_mode": {
    "name": "ipython",
    "version": 3
   },
   "file_extension": ".py",
   "mimetype": "text/x-python",
   "name": "python",
   "nbconvert_exporter": "python",
   "pygments_lexer": "ipython3",
   "version": "3.11.5"
  }
 },
 "nbformat": 4,
 "nbformat_minor": 5
}
